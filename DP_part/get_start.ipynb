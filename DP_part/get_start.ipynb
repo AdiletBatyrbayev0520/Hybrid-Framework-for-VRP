{
 "cells": [
  {
   "cell_type": "code",
   "execution_count": null,
   "metadata": {},
   "outputs": [],
   "source": [
    "pip install -r requirements.txt"
   ]
  },
  {
   "cell_type": "code",
   "execution_count": 22,
   "metadata": {},
   "outputs": [
    {
     "name": "stdout",
     "output_type": "stream",
     "text": [
      "Cities data saved to: test_data/cities.csv\n",
      "Distances data saved to: test_data/distances.csv\n"
     ]
    }
   ],
   "source": [
    "!python environment/generate_env.py --num_cities 21 --save_path test_data/"
   ]
  },
  {
   "cell_type": "code",
   "execution_count": 8,
   "metadata": {},
   "outputs": [],
   "source": [
    "!python held_karp.py --input_path test_data/ --save_path tests/1"
   ]
  },
  {
   "cell_type": "code",
   "execution_count": null,
   "metadata": {},
   "outputs": [],
   "source": []
  },
  {
   "cell_type": "markdown",
   "metadata": {},
   "source": [
    "Testing the output for correctivity:"
   ]
  },
  {
   "cell_type": "code",
   "execution_count": 9,
   "metadata": {},
   "outputs": [
    {
     "name": "stdout",
     "output_type": "stream",
     "text": [
      "\n",
      "=== РЕЗУЛЬТАТЫ ПРОВЕРКИ РЕШЕНИЯ TSP ===\n",
      "\n",
      "Маршрут: City_0 -> City_17 -> City_9 -> City_8 -> City_5 -> City_12 -> City_13 -> City_20 -> City_6 -> City_18 -> City_2 -> City_3 -> City_11 -> City_16 -> City_15 -> City_10 -> City_1 -> City_4 -> City_7 -> City_14 -> City_19 -> City_0\n",
      "\n",
      "✓ Маршрут валиден.\n",
      "\n",
      "Длина маршрута:\n",
      "  Указанная в файле: 371.994330\n",
      "  Рассчитанная:      371.994330\n",
      "  Разница:           0.000000 (0.000000%)\n",
      "\n",
      "✓ Длина маршрута рассчитана верно.\n",
      "\n",
      "Время выполнения: 55.238749 секунд\n"
     ]
    }
   ],
   "source": [
    "!python verify_tsp_solution.py --route tests/1/best_route.txt --matrix test_data/distances.csv"
   ]
  },
  {
   "cell_type": "code",
   "execution_count": null,
   "metadata": {},
   "outputs": [],
   "source": []
  }
 ],
 "metadata": {
  "kernelspec": {
   "display_name": ".venv",
   "language": "python",
   "name": "python3"
  },
  "language_info": {
   "codemirror_mode": {
    "name": "ipython",
    "version": 3
   },
   "file_extension": ".py",
   "mimetype": "text/x-python",
   "name": "python",
   "nbconvert_exporter": "python",
   "pygments_lexer": "ipython3",
   "version": "3.9.20"
  }
 },
 "nbformat": 4,
 "nbformat_minor": 2
}
