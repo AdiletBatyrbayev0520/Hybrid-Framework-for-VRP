{
 "cells": [
  {
   "cell_type": "code",
   "execution_count": null,
   "id": "8b9d0803",
   "metadata": {},
   "outputs": [],
   "source": [
    "pip install -r requirements.txt"
   ]
  },
  {
   "cell_type": "code",
   "execution_count": 8,
   "id": "53bd21d5",
   "metadata": {},
   "outputs": [
    {
     "name": "stdout",
     "output_type": "stream",
     "text": [
      "Created directory: runs/test_30/\n",
      "Cities data saved to: runs/test_30/cities.csv\n",
      "Distances data saved to: runs/test_30/distances.csv\n"
     ]
    }
   ],
   "source": [
    "!python rl_environment/generate_env.py --num_cities 30 --save_path runs/test_30/"
   ]
  },
  {
   "cell_type": "code",
   "execution_count": 7,
   "id": "d50ecb45",
   "metadata": {},
   "outputs": [],
   "source": [
    "!python double_q_learning.py --save_path runs/test_3/ --weights_path runs/test_2/ --num_episodes 10000"
   ]
  },
  {
   "cell_type": "code",
   "execution_count": 9,
   "id": "b6ec7f5c",
   "metadata": {},
   "outputs": [],
   "source": [
    "!python predict_route.py --weights_path runs/test_2/ --input_path test_data/ --save_path tests/1/ --csv"
   ]
  },
  {
   "cell_type": "code",
   "execution_count": null,
   "id": "5e880605",
   "metadata": {},
   "outputs": [],
   "source": []
  },
  {
   "cell_type": "markdown",
   "id": "9ed18c39",
   "metadata": {},
   "source": [
    "Testing for Validation:"
   ]
  },
  {
   "cell_type": "code",
   "execution_count": 10,
   "id": "c7e67bfb",
   "metadata": {},
   "outputs": [
    {
     "name": "stdout",
     "output_type": "stream",
     "text": [
      "\n",
      "=== РЕЗУЛЬТАТЫ ПРОВЕРКИ РЕШЕНИЯ TSP ===\n",
      "\n",
      "Маршрут: City_0 -> City_1 -> City_18 -> City_14 -> City_9 -> City_10 -> City_16 -> City_8 -> City_5 -> City_6 -> City_12 -> City_15 -> City_13 -> City_19 -> City_4 -> City_11 -> City_7 -> City_17 -> City_3 -> City_2 -> City_0\n",
      "\n",
      "✓ Маршрут валиден.\n",
      "\n",
      "Длина маршрута:\n",
      "  Указанная в файле: 470.295356\n",
      "  Рассчитанная:      470.295356\n",
      "  Разница:           0.000000 (0.000000%)\n",
      "\n",
      "✓ Длина маршрута рассчитана верно.\n"
     ]
    }
   ],
   "source": [
    "!python verify_tsp_solution.py --route runs/test_3/best_route.txt --matrix runs/test_3/distances.csv"
   ]
  },
  {
   "cell_type": "code",
   "execution_count": 14,
   "id": "420af009",
   "metadata": {},
   "outputs": [
    {
     "name": "stdout",
     "output_type": "stream",
     "text": [
      "\n",
      "=== РЕЗУЛЬТАТЫ ПРОВЕРКИ РЕШЕНИЯ TSP ===\n",
      "\n",
      "Маршрут: City_0 -> City_9 -> City_17 -> City_8 -> City_5 -> City_12 -> City_20 -> City_13 -> City_10 -> City_3 -> City_11 -> City_16 -> City_15 -> City_2 -> City_18 -> City_6 -> City_7 -> City_14 -> City_1 -> City_4 -> City_19 -> City_0\n",
      "\n",
      "✓ Маршрут валиден.\n",
      "\n",
      "Длина маршрута:\n",
      "  Указанная в файле: 503.409157\n",
      "  Рассчитанная:      503.409157\n",
      "  Разница:           0.000000 (0.000000%)\n",
      "\n",
      "✓ Длина маршрута рассчитана верно.\n",
      "\n",
      "Время выполнения: 0.001557 секунд\n"
     ]
    }
   ],
   "source": [
    "!python verify_tsp_solution.py --route tests/1/predicted_route.txt --matrix runs/test_2/distances.csv"
   ]
  },
  {
   "cell_type": "code",
   "execution_count": null,
   "id": "79c755f9",
   "metadata": {},
   "outputs": [],
   "source": []
  }
 ],
 "metadata": {
  "kernelspec": {
   "display_name": ".venv",
   "language": "python",
   "name": "python3"
  },
  "language_info": {
   "codemirror_mode": {
    "name": "ipython",
    "version": 3
   },
   "file_extension": ".py",
   "mimetype": "text/x-python",
   "name": "python",
   "nbconvert_exporter": "python",
   "pygments_lexer": "ipython3",
   "version": "3.9.20"
  }
 },
 "nbformat": 4,
 "nbformat_minor": 5
}
