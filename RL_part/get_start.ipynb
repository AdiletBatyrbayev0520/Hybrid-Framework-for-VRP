{
 "cells": [
  {
   "cell_type": "code",
   "execution_count": null,
   "id": "8b9d0803",
   "metadata": {},
   "outputs": [],
   "source": [
    "pip install -r requirements.txt"
   ]
  },
  {
   "cell_type": "code",
   "execution_count": 10,
   "id": "53bd21d5",
   "metadata": {},
   "outputs": [
    {
     "name": "stdout",
     "output_type": "stream",
     "text": [
      "Cities data saved to: runs/test_1/cities.csv\n",
      "Distances data saved to: runs/test_1/distances.csv\n"
     ]
    }
   ],
   "source": [
    "!python rl_environment/generate_env.py 100 runs/test_1/"
   ]
  },
  {
   "cell_type": "code",
   "execution_count": 2,
   "id": "d50ecb45",
   "metadata": {},
   "outputs": [],
   "source": [
    "!python double_q_learning.py runs/test_1/ 1000 0.1 0.9"
   ]
  },
  {
   "cell_type": "code",
   "execution_count": 1,
   "id": "b6ec7f5c",
   "metadata": {},
   "outputs": [],
   "source": [
    "!python predict_route.py --weights_path runs/test_1/ --input_path test_data/ --save_path tests/1/ --csv"
   ]
  },
  {
   "cell_type": "code",
   "execution_count": null,
   "id": "5e880605",
   "metadata": {},
   "outputs": [],
   "source": []
  }
 ],
 "metadata": {
  "kernelspec": {
   "display_name": ".venv",
   "language": "python",
   "name": "python3"
  },
  "language_info": {
   "codemirror_mode": {
    "name": "ipython",
    "version": 3
   },
   "file_extension": ".py",
   "mimetype": "text/x-python",
   "name": "python",
   "nbconvert_exporter": "python",
   "pygments_lexer": "ipython3",
   "version": "3.9.20"
  }
 },
 "nbformat": 4,
 "nbformat_minor": 5
}
