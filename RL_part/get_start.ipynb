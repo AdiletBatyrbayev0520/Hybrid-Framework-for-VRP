{
 "cells": [
  {
   "cell_type": "code",
   "execution_count": null,
   "id": "8b9d0803",
   "metadata": {},
   "outputs": [],
   "source": [
    "pip install -r requirements.txt"
   ]
  },
  {
   "cell_type": "code",
   "execution_count": 5,
   "id": "53bd21d5",
   "metadata": {},
   "outputs": [
    {
     "name": "stdout",
     "output_type": "stream",
     "text": [
      "Cities data saved to: runs/test_3/cities.csv\n",
      "Distances data saved to: runs/test_3/distances.csv\n"
     ]
    }
   ],
   "source": [
    "!python rl_environment/generate_env.py --num_cities 20 --save_path runs/test_3/"
   ]
  },
  {
   "cell_type": "code",
   "execution_count": 7,
   "id": "d50ecb45",
   "metadata": {},
   "outputs": [],
   "source": [
    "!python double_q_learning.py --save_path runs/test_3/ --weights_path runs/test_2/ --num_episodes 10000"
   ]
  },
  {
   "cell_type": "code",
   "execution_count": 3,
   "id": "b6ec7f5c",
   "metadata": {},
   "outputs": [],
   "source": [
    "!python predict_route.py --weights_path runs/test_2/ --input_path test_data/ --save_path tests/1/ --csv"
   ]
  },
  {
   "cell_type": "code",
   "execution_count": null,
   "id": "5e880605",
   "metadata": {},
   "outputs": [],
   "source": []
  }
 ],
 "metadata": {
  "kernelspec": {
   "display_name": ".venv",
   "language": "python",
   "name": "python3"
  },
  "language_info": {
   "codemirror_mode": {
    "name": "ipython",
    "version": 3
   },
   "file_extension": ".py",
   "mimetype": "text/x-python",
   "name": "python",
   "nbconvert_exporter": "python",
   "pygments_lexer": "ipython3",
   "version": "3.9.20"
  }
 },
 "nbformat": 4,
 "nbformat_minor": 5
}
